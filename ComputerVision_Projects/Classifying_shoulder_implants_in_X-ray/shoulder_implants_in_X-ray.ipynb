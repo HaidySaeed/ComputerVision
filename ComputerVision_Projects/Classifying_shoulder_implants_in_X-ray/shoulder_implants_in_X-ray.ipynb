{
 "cells": [
  {
   "cell_type": "code",
   "execution_count": 46,
   "id": "000de734",
   "metadata": {},
   "outputs": [],
   "source": [
    "import glob\n",
    "import cv2\n",
    "import matplotlib.pyplot as plt\n",
    "from skimage.io import imread,imshow,imsave\n",
    "import os\n",
    "import numpy as np\n",
    "import random\n",
    "from sklearn.model_selection import train_test_split\n",
    "import statistics as s\n",
    "from sklearn.datasets import make_blobs\n",
    "import keras\n",
    "from keras.models import Sequential\n",
    "from keras.layers import Dense, Conv2D , MaxPool2D , Flatten , Dropout\n",
    "from keras.preprocessing.image import ImageDataGenerator\n",
    "from keras import optimizers\n",
    "import tensorflow as tf\n",
    "from tensorflow.keras.preprocessing import image\n",
    "from tensorflow.keras.preprocessing.image import ImageDataGenerator\n",
    "from tensorflow.keras.optimizers import RMSprop\n",
    "from tensorflow.keras.utils import to_categorical\n",
    "from keras.utils import np_utils"
   ]
  },
  {
   "cell_type": "code",
   "execution_count": 47,
   "id": "ff2bff86",
   "metadata": {},
   "outputs": [],
   "source": [
    "#img=cv2.imread(\"Depuy.1.jpg\")"
   ]
  },
  {
   "cell_type": "code",
   "execution_count": 48,
   "id": "62f7d2fb",
   "metadata": {},
   "outputs": [],
   "source": [
    "file = \"Cofield\\\\*.jpg\"\n",
    "file2 = \"Depuy\\\\*.jpg\"\n",
    "file3 = \"Tornier\\\\*.jpg\"\n",
    "file4 = \"Zimmer\\\\*.jpg\""
   ]
  },
  {
   "cell_type": "code",
   "execution_count": 49,
   "id": "05280061",
   "metadata": {},
   "outputs": [],
   "source": [
    "image = cv2.imread(file)\n",
    "image2 = cv2.imread(file2)\n",
    "image3 = cv2.imread(file3)\n",
    "image4 = cv2.imread(file4)"
   ]
  },
  {
   "cell_type": "code",
   "execution_count": 52,
   "id": "6b70d71f",
   "metadata": {},
   "outputs": [
    {
     "data": {
      "text/plain": [
       "(250, 250, 3)"
      ]
     },
     "execution_count": 52,
     "metadata": {},
     "output_type": "execute_result"
    }
   ],
   "source": [
    "images = [cv2.imread(image) for image in glob.glob(file)]\n",
    "images2 = [cv2.imread(image) for image in glob.glob(file2)]\n",
    "images3 = [cv2.imread(image) for image in glob.glob(file3)]\n",
    "images4 = [cv2.imread(image) for image in glob.glob(file4)]\n",
    "images[0].shape"
   ]
  },
  {
   "cell_type": "code",
   "execution_count": 53,
   "id": "8572df99",
   "metadata": {},
   "outputs": [],
   "source": [
    "x = []\n",
    "y = []"
   ]
  },
  {
   "cell_type": "code",
   "execution_count": 54,
   "id": "34451aaf",
   "metadata": {},
   "outputs": [],
   "source": [
    "for i in range(0,len(images)):\n",
    "    images[i] = cv2.resize(images[i], (250, 250))\n",
    "    norm = (images[i] - np.mean(images[i])) / np.std(images[i])\n",
    "    x.append(norm)\n",
    "    y.append(0)\n",
    "for i in range(0,len(images2)):\n",
    "    images2[i] = cv2.resize(images2[i], (250, 250))\n",
    "    norm = (images2[i] - np.mean(images2[i])) / np.std(images2[i])\n",
    "    x.append(norm)\n",
    "    y.append(1)\n",
    "for i in range(0,len(images3)):\n",
    "    images3[i] = cv2.resize(images3[i], (250, 250))\n",
    "    norm = (images3[i] - np.mean(images3[i])) / np.std(images3[i])\n",
    "    x.append(norm)\n",
    "    y.append(2)\n",
    "for i in range(0,len(images4)):\n",
    "    images4[i] = cv2.resize(images4[i], (250, 250))\n",
    "    norm = (images4[i] - np.mean(images4[i])) / np.std(images4[i])\n",
    "    x.append(norm)\n",
    "    y.append(3)"
   ]
  },
  {
   "cell_type": "code",
   "execution_count": 55,
   "id": "9ad5281a",
   "metadata": {},
   "outputs": [
    {
     "name": "stdout",
     "output_type": "stream",
     "text": [
      "597\n",
      "597\n"
     ]
    }
   ],
   "source": [
    "print(len(y))\n",
    "print (len(x))"
   ]
  },
  {
   "cell_type": "code",
   "execution_count": 56,
   "id": "17891b85",
   "metadata": {},
   "outputs": [
    {
     "name": "stdout",
     "output_type": "stream",
     "text": [
      "(597, 250, 250, 3) (597, 4)\n"
     ]
    }
   ],
   "source": [
    "X = np.array(x).reshape(-1, 250, 250, 3)\n",
    "X = X.astype('float32')\n",
    "Y = np_utils.to_categorical(y, 4)\n",
    "print (X.shape, Y.shape)"
   ]
  },
  {
   "cell_type": "code",
   "execution_count": 57,
   "id": "82db4ce7",
   "metadata": {},
   "outputs": [],
   "source": [
    "x_train,x_test,y_train,y_test=train_test_split(X,Y,test_size=0.3,shuffle=True)\n"
   ]
  },
  {
   "cell_type": "code",
   "execution_count": 43,
   "id": "ac7d9b61",
   "metadata": {},
   "outputs": [
    {
     "name": "stdout",
     "output_type": "stream",
     "text": [
      "Epoch 1/15\n",
      "14/14 [==============================] - 18s 1s/step - loss: 4.5498 - accuracy: 0.3213\n",
      "Epoch 2/15\n",
      "14/14 [==============================] - 14s 1s/step - loss: 1.2164 - accuracy: 0.4724\n",
      "Epoch 3/15\n",
      "14/14 [==============================] - 14s 1s/step - loss: 1.1547 - accuracy: 0.5084\n",
      "Epoch 4/15\n",
      "14/14 [==============================] - 14s 1s/step - loss: 1.0020 - accuracy: 0.5923\n",
      "Epoch 5/15\n",
      "14/14 [==============================] - 14s 998ms/step - loss: 1.0434 - accuracy: 0.5707\n",
      "Epoch 6/15\n",
      "14/14 [==============================] - 14s 1s/step - loss: 0.8221 - accuracy: 0.7026\n",
      "Epoch 7/15\n",
      "14/14 [==============================] - 14s 1s/step - loss: 0.6585 - accuracy: 0.7626\n",
      "Epoch 8/15\n",
      "14/14 [==============================] - 14s 1s/step - loss: 0.4874 - accuracy: 0.8513\n",
      "Epoch 9/15\n",
      "14/14 [==============================] - 14s 1s/step - loss: 0.3883 - accuracy: 0.8633\n",
      "Epoch 10/15\n",
      "14/14 [==============================] - 14s 997ms/step - loss: 0.2684 - accuracy: 0.9329\n",
      "Epoch 11/15\n",
      "14/14 [==============================] - 14s 1s/step - loss: 0.1766 - accuracy: 0.9616\n",
      "Epoch 12/15\n",
      "14/14 [==============================] - 14s 1000ms/step - loss: 0.1325 - accuracy: 0.9808\n",
      "Epoch 13/15\n",
      "14/14 [==============================] - 14s 1s/step - loss: 0.0735 - accuracy: 0.9904\n",
      "Epoch 14/15\n",
      "14/14 [==============================] - 14s 996ms/step - loss: 0.0583 - accuracy: 0.9976\n",
      "Epoch 15/15\n",
      "14/14 [==============================] - 14s 1s/step - loss: 0.0456 - accuracy: 0.9928\n"
     ]
    },
    {
     "data": {
      "text/plain": [
       "<keras.callbacks.History at 0x223430bff40>"
      ]
     },
     "execution_count": 43,
     "metadata": {},
     "output_type": "execute_result"
    }
   ],
   "source": [
    "model = tf.keras.Sequential([\n",
    "tf.keras.layers.Conv2D(32, (3,3), padding='same', activation=tf.nn.relu,\n",
    "input_shape=(250, 250, 3)),\n",
    "tf.keras.layers.MaxPooling2D((2, 2), strides=2),\n",
    "tf.keras.layers.Conv2D(32, (3,3), padding='same', activation=tf.nn.relu),\n",
    "tf.keras.layers.MaxPooling2D((2, 2), strides=2),\n",
    "tf.keras.layers.Dropout(0.5),\n",
    "tf.keras.layers.Flatten(),\n",
    "tf.keras.layers.Dense(128, activation=tf.nn.relu),\n",
    "tf.keras.layers.Dense(4, activation=tf.nn.softmax)\n",
    "])\n",
    "model.compile(optimizer='adam', loss='categorical_crossentropy', metrics=['accuracy'])\n",
    "model.fit(x_train, y_train, epochs=15)\n"
   ]
  },
  {
   "cell_type": "code",
   "execution_count": 45,
   "id": "74bd978e",
   "metadata": {},
   "outputs": [
    {
     "name": "stdout",
     "output_type": "stream",
     "text": [
      "6/6 [==============================] - 2s 250ms/step - loss: 2.3683 - accuracy: 0.4444\n"
     ]
    },
    {
     "data": {
      "text/plain": [
       "[2.368314027786255, 0.4444444477558136]"
      ]
     },
     "execution_count": 45,
     "metadata": {},
     "output_type": "execute_result"
    }
   ],
   "source": [
    "model.evaluate(x_test, y_test)"
   ]
  },
  {
   "cell_type": "code",
   "execution_count": null,
   "id": "1fd7b7f0",
   "metadata": {},
   "outputs": [],
   "source": []
  }
 ],
 "metadata": {
  "kernelspec": {
   "display_name": "Python 3",
   "language": "python",
   "name": "python3"
  },
  "language_info": {
   "codemirror_mode": {
    "name": "ipython",
    "version": 3
   },
   "file_extension": ".py",
   "mimetype": "text/x-python",
   "name": "python",
   "nbconvert_exporter": "python",
   "pygments_lexer": "ipython3",
   "version": "3.8.8"
  }
 },
 "nbformat": 4,
 "nbformat_minor": 5
}
